{
 "cells": [
  {
   "cell_type": "code",
   "execution_count": 12,
   "metadata": {},
   "outputs": [
    {
     "data": {
      "text/plain": [
       "['../data/USA-road-t.USA.gr',\n",
       " '../data/USA-road-d.USA.co',\n",
       " '../data/USA-road-d.USA.gr']"
      ]
     },
     "execution_count": 12,
     "metadata": {},
     "output_type": "execute_result"
    }
   ],
   "source": [
    "import os\n",
    "\n",
    "data_dir = '../data/'\n",
    "filepaths = []\n",
    "\n",
    "for filename in os.listdir(data_dir):\n",
    "    file_path = os.path.join(data_dir, filename)\n",
    "    if os.path.isfile(file_path):\n",
    "            filepaths.append(file_path)\n",
    "filepaths"
   ]
  },
  {
   "cell_type": "code",
   "execution_count": 3,
   "metadata": {},
   "outputs": [],
   "source": [
    "# verify file structure\n",
    "with open(\"../data/USA-road-d.USA.gr\", \"r\") as file:\n",
    "    # lines = []\n",
    "    # for _ in range(100):\n",
    "    for line in file:\n",
    "        # line = file.readline()\n",
    "        if not line:\n",
    "            break\n",
    "        if line.startswith(\"c\") or line.startswith('p'):\n",
    "            continue\n",
    "\n",
    "        assert line.startswith('a')\n",
    "        # lines.append(line)\n",
    "        # print(line, end=\"\")\n",
    "with open(\"../data/USA-road-t.USA.gr\", \"r\") as file:\n",
    "    # lines = []\n",
    "    # for _ in range(100):\n",
    "    for line in file:\n",
    "        # line = file.readline()\n",
    "        if not line:\n",
    "            break\n",
    "        if line.startswith(\"c\") or line.startswith('p'):\n",
    "            continue\n",
    "\n",
    "        assert line.startswith('a')\n",
    "        # lines.append(line)\n",
    "        # print(line, end=\"\")"
   ]
  },
  {
   "cell_type": "code",
   "execution_count": 2,
   "metadata": {},
   "outputs": [
    {
     "name": "stdout",
     "output_type": "stream",
     "text": [
      "1 2 2025\n"
     ]
    }
   ],
   "source": [
    "with open(\"../data/USA-road-d.USA.gr\", \"r\") as file:\n",
    "    for line in file:\n",
    "        if not line:\n",
    "            break\n",
    "        if line.startswith(\"c\") or line.startswith('p'):\n",
    "            continue\n",
    "\n",
    "        assert line.startswith('a')\n",
    "        node_a, node_b, distance = map(int, line[2:].split())"
   ]
  },
  {
   "cell_type": "code",
   "execution_count": null,
   "metadata": {},
   "outputs": [],
   "source": []
  }
 ],
 "metadata": {
  "kernelspec": {
   "display_name": "base",
   "language": "python",
   "name": "python3"
  },
  "language_info": {
   "codemirror_mode": {
    "name": "ipython",
    "version": 3
   },
   "file_extension": ".py",
   "mimetype": "text/x-python",
   "name": "python",
   "nbconvert_exporter": "python",
   "pygments_lexer": "ipython3",
   "version": "3.11.5"
  }
 },
 "nbformat": 4,
 "nbformat_minor": 2
}
