{
 "cells": [
  {
   "cell_type": "code",
   "execution_count": 12,
   "metadata": {},
   "outputs": [
    {
     "data": {
      "text/plain": [
       "['../data/USA-road-t.USA.gr',\n",
       " '../data/USA-road-d.USA.co',\n",
       " '../data/USA-road-d.USA.gr']"
      ]
     },
     "execution_count": 12,
     "metadata": {},
     "output_type": "execute_result"
    }
   ],
   "source": [
    "import os\n",
    "\n",
    "data_dir = '../data/'\n",
    "filepaths = []\n",
    "\n",
    "for filename in os.listdir(data_dir):\n",
    "    file_path = os.path.join(data_dir, filename)\n",
    "    if os.path.isfile(file_path):\n",
    "            filepaths.append(file_path)\n",
    "filepaths"
   ]
  },
  {
   "cell_type": "code",
   "execution_count": 2,
   "metadata": {},
   "outputs": [
    {
     "name": "stdout",
     "output_type": "stream",
     "text": [
      "c 9th DIMACS Implementation Challenge: Shortest Paths\n",
      "c http://www.dis.uniroma1.it/~challenge9\n",
      "c TIGER/Line graph USA-road-d.USA\n",
      "c\n",
      "p sp 23947347 58333344\n",
      "c graph contains 23947347 nodes and 58333344 arcs\n",
      "c\n",
      "a 1 2 2025\n",
      "a 2 1 2025\n",
      "a 1048577 1048578 414\n",
      "a 1048578 1048577 414\n",
      "a 2097153 3 144\n",
      "a 3 2097153 144\n",
      "a 4 1048579 2329\n",
      "a 1048579 4 2329\n",
      "a 2097154 5 4327\n",
      "a 5 2097154 4327\n",
      "a 6 1048580 2487\n",
      "a 1048580 6 2487\n",
      "a 1048581 7 8\n",
      "a 7 1048581 8\n",
      "a 7 8 878\n",
      "a 8 7 878\n",
      "a 1048582 1048580 13948\n",
      "a 1048580 1048582 13948\n",
      "a 7 1048583 1513\n",
      "a 1048583 7 1513\n",
      "a 2 2097155 656\n",
      "a 2097155 2 656\n",
      "a 1048582 9 16287\n",
      "a 9 1048582 16287\n",
      "a 1048584 1048585 409\n",
      "a 1048585 1048584 409\n",
      "a 2097156 10 4739\n",
      "a 10 2097156 4739\n",
      "a 11 10 2803\n",
      "a 10 11 2803\n",
      "a 3 10 6758\n",
      "a 10 3 6758\n",
      "a 1048586 2097153 3925\n",
      "a 2097153 1048586 3925\n",
      "a 3 2097157 1425\n",
      "a 2097157 3 1425\n",
      "a 2097153 11 5626\n",
      "a 11 2097153 5626\n",
      "a 12 11 3421\n",
      "a 11 12 3421\n",
      "a 13 1048587 833\n",
      "a 1048587 13 833\n",
      "a 1048584 1048588 12029\n",
      "a 1048588 1048584 12029\n",
      "a 14 15 1182\n",
      "a 15 14 1182\n",
      "a 2097156 14 3561\n",
      "a 14 2097156 3561\n",
      "a 12 2097156 3020\n",
      "a 2097156 12 3020\n",
      "a 2097154 5 4327\n",
      "a 5 2097154 4327\n",
      "a 5 6 6621\n",
      "a 6 5 6621\n",
      "a 6 12 13827\n",
      "a 12 6 13827\n",
      "a 14 1048589 666\n",
      "a 1048589 14 666\n",
      "a 2097155 1048577 896\n",
      "a 1048577 2097155 896\n",
      "a 1048590 2097158 1632\n",
      "a 2097158 1048590 1632\n",
      "a 16 2097154 2686\n",
      "a 2097154 16 2686\n",
      "a 1048591 1048584 1543\n",
      "a 1048584 1048591 1543\n",
      "a 1048591 1048592 3647\n",
      "a 1048592 1048591 3647\n",
      "a 1048580 2097159 821\n",
      "a 2097159 1048580 821\n",
      "a 17 16 3948\n",
      "a 16 17 3948\n",
      "a 17 18 879\n",
      "a 18 17 879\n",
      "a 1048593 2097160 3835\n",
      "a 2097160 1048593 3835\n",
      "a 1048593 19 1820\n",
      "a 19 1048593 1820\n",
      "a 20 2097160 2820\n",
      "a 2097160 20 2820\n",
      "a 20 1048594 1519\n",
      "a 1048594 20 1519\n",
      "a 13 2097155 508\n",
      "a 2097155 13 508\n",
      "a 1048595 21 9563\n",
      "a 21 1048595 9563\n",
      "a 22 1048596 3159\n",
      "a 1048596 22 3159\n",
      "a 1048596 1048597 3178\n",
      "a 1048597 1048596 3178\n",
      "a 2097161 23 11041\n",
      "a 23 2097161 11041\n",
      "a 1048598 1048599 1839\n"
     ]
    }
   ],
   "source": [
    "with open(\"../data/USA-road-d.USA.gr\", \"r\") as file:\n",
    "    lines = []\n",
    "    for _ in range(100):\n",
    "    # for line in file:\n",
    "        line = file.readline()\n",
    "        if not line:\n",
    "            break\n",
    "        # if line.startswith(\"c\") or line.startswith('p'):\n",
    "        #     continue\n",
    "\n",
    "        # assert line.startswith('a')\n",
    "        # lines.append(line)\n",
    "        print(line, end=\"\")"
   ]
  },
  {
   "cell_type": "code",
   "execution_count": 3,
   "metadata": {},
   "outputs": [],
   "source": [
    "# verify file structure\n",
    "with open(\"../data/USA-road-d.USA.gr\", \"r\") as file:\n",
    "    # lines = []\n",
    "    # for _ in range(100):\n",
    "    for line in file:\n",
    "        # line = file.readline()\n",
    "        if not line:\n",
    "            break\n",
    "        if line.startswith(\"c\") or line.startswith('p'):\n",
    "            continue\n",
    "\n",
    "        assert line.startswith('a')\n",
    "        # lines.append(line)\n",
    "        # print(line, end=\"\")\n",
    "with open(\"../data/USA-road-t.USA.gr\", \"r\") as file:\n",
    "    # lines = []\n",
    "    # for _ in range(100):\n",
    "    for line in file:\n",
    "        # line = file.readline()\n",
    "        if not line:\n",
    "            break\n",
    "        if line.startswith(\"c\") or line.startswith('p'):\n",
    "            continue\n",
    "\n",
    "        assert line.startswith('a')\n",
    "        # lines.append(line)\n",
    "        # print(line, end=\"\")"
   ]
  },
  {
   "cell_type": "code",
   "execution_count": 2,
   "metadata": {},
   "outputs": [
    {
     "name": "stdout",
     "output_type": "stream",
     "text": [
      "1 2 2025\n"
     ]
    }
   ],
   "source": [
    "with open(\"../data/USA-road-d.USA.gr\", \"r\") as file:\n",
    "    for line in file:\n",
    "        if not line:\n",
    "            break\n",
    "        if line.startswith(\"c\"):\n",
    "            continue\n",
    "        if line.startswith()\n",
    "\n",
    "        assert line.startswith('a')\n",
    "        node_a, node_b, distance = map(int, line[2:].split())"
   ]
  },
  {
   "cell_type": "code",
   "execution_count": null,
   "metadata": {},
   "outputs": [],
   "source": []
  }
 ],
 "metadata": {
  "kernelspec": {
   "display_name": "base",
   "language": "python",
   "name": "python3"
  },
  "language_info": {
   "codemirror_mode": {
    "name": "ipython",
    "version": 3
   },
   "file_extension": ".py",
   "mimetype": "text/x-python",
   "name": "python",
   "nbconvert_exporter": "python",
   "pygments_lexer": "ipython3",
   "version": "3.11.5"
  }
 },
 "nbformat": 4,
 "nbformat_minor": 2
}
